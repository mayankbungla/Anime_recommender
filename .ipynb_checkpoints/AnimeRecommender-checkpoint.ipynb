{
 "cells": [
  {
   "cell_type": "markdown",
   "id": "c96afad6",
   "metadata": {},
   "source": [
    "### Importing Libraries"
   ]
  },
  {
   "cell_type": "code",
   "execution_count": 1,
   "id": "f95c8799",
   "metadata": {},
   "outputs": [],
   "source": [
    "import numpy as np\n",
    "import pandas as pd\n",
    "from sklearn.feature_extraction.text import TfidfVectorizer \n",
    "from sklearn.metrics.pairwise import linear_kernel,cosine_similarity\n",
    "from scipy.sparse import csr_matrix\n",
    "\n",
    "import warnings\n",
    "warnings.filterwarnings(\"ignore\")\n",
    "import pickle"
   ]
  },
  {
   "cell_type": "markdown",
   "id": "21520014",
   "metadata": {},
   "source": [
    "### importing Dataset"
   ]
  },
  {
   "cell_type": "markdown",
   "id": "9b00f2b2",
   "metadata": {},
   "source": [
    "This dataset contains information on user preference data from 73,516 users on 12,294 anime. Each user is able to add anime to their completed list and give it a rating and this dataset is a compilation of those ratings.\n",
    "\n",
    "#### anime.csv\n",
    "\n",
    "- anime_id : myanimelist.net's unique id identifying an anime.\n",
    "- name : full name of anime.\n",
    "- genre : comma separated list of genres for this anime.\n",
    "- type : movie, TV, OVA, etc.\n",
    "- episodes : how many episodes in this show. (1 if movie).\n",
    "- rating : average rating out of 10 for this anime.\n",
    "- members : number of community members that are in this anime's \"group\".\n",
    "\n",
    "#### rating.csv\n",
    "\n",
    "- user_id : non identifiable randomly generated user id.\n",
    "- anime_id : the anime that this user has rated.\n",
    "- rating : rating out of 10 this user has assigned (-1 if the user watched it but didn't assign a rating).\n",
    "\n",
    "- source ~ https://www.kaggle.com/datasets/CooperUnion/anime-recommendations-database"
   ]
  },
  {
   "cell_type": "code",
   "execution_count": 2,
   "id": "0ce7e3d3",
   "metadata": {},
   "outputs": [],
   "source": [
    "anime = pd.read_csv(\"data/anime.csv\")\n",
    "ratings= pd.read_csv(\"data/rating.csv\")"
   ]
  },
  {
   "cell_type": "code",
   "execution_count": 3,
   "id": "1ea72177",
   "metadata": {},
   "outputs": [
    {
     "data": {
      "text/html": [
       "<div>\n",
       "<style scoped>\n",
       "    .dataframe tbody tr th:only-of-type {\n",
       "        vertical-align: middle;\n",
       "    }\n",
       "\n",
       "    .dataframe tbody tr th {\n",
       "        vertical-align: top;\n",
       "    }\n",
       "\n",
       "    .dataframe thead th {\n",
       "        text-align: right;\n",
       "    }\n",
       "</style>\n",
       "<table border=\"1\" class=\"dataframe\">\n",
       "  <thead>\n",
       "    <tr style=\"text-align: right;\">\n",
       "      <th></th>\n",
       "      <th>anime_id</th>\n",
       "      <th>name</th>\n",
       "      <th>genre</th>\n",
       "      <th>type</th>\n",
       "      <th>episodes</th>\n",
       "      <th>rating</th>\n",
       "      <th>members</th>\n",
       "    </tr>\n",
       "  </thead>\n",
       "  <tbody>\n",
       "    <tr>\n",
       "      <th>0</th>\n",
       "      <td>32281</td>\n",
       "      <td>Kimi no Na wa.</td>\n",
       "      <td>Drama, Romance, School, Supernatural</td>\n",
       "      <td>Movie</td>\n",
       "      <td>1</td>\n",
       "      <td>9.37</td>\n",
       "      <td>200630</td>\n",
       "    </tr>\n",
       "    <tr>\n",
       "      <th>1</th>\n",
       "      <td>5114</td>\n",
       "      <td>Fullmetal Alchemist: Brotherhood</td>\n",
       "      <td>Action, Adventure, Drama, Fantasy, Magic, Mili...</td>\n",
       "      <td>TV</td>\n",
       "      <td>64</td>\n",
       "      <td>9.26</td>\n",
       "      <td>793665</td>\n",
       "    </tr>\n",
       "    <tr>\n",
       "      <th>2</th>\n",
       "      <td>28977</td>\n",
       "      <td>Gintama°</td>\n",
       "      <td>Action, Comedy, Historical, Parody, Samurai, S...</td>\n",
       "      <td>TV</td>\n",
       "      <td>51</td>\n",
       "      <td>9.25</td>\n",
       "      <td>114262</td>\n",
       "    </tr>\n",
       "    <tr>\n",
       "      <th>3</th>\n",
       "      <td>9253</td>\n",
       "      <td>Steins;Gate</td>\n",
       "      <td>Sci-Fi, Thriller</td>\n",
       "      <td>TV</td>\n",
       "      <td>24</td>\n",
       "      <td>9.17</td>\n",
       "      <td>673572</td>\n",
       "    </tr>\n",
       "    <tr>\n",
       "      <th>4</th>\n",
       "      <td>9969</td>\n",
       "      <td>Gintama&amp;#039;</td>\n",
       "      <td>Action, Comedy, Historical, Parody, Samurai, S...</td>\n",
       "      <td>TV</td>\n",
       "      <td>51</td>\n",
       "      <td>9.16</td>\n",
       "      <td>151266</td>\n",
       "    </tr>\n",
       "  </tbody>\n",
       "</table>\n",
       "</div>"
      ],
      "text/plain": [
       "   anime_id                              name  \\\n",
       "0     32281                    Kimi no Na wa.   \n",
       "1      5114  Fullmetal Alchemist: Brotherhood   \n",
       "2     28977                          Gintama°   \n",
       "3      9253                       Steins;Gate   \n",
       "4      9969                     Gintama&#039;   \n",
       "\n",
       "                                               genre   type episodes  rating  \\\n",
       "0               Drama, Romance, School, Supernatural  Movie        1    9.37   \n",
       "1  Action, Adventure, Drama, Fantasy, Magic, Mili...     TV       64    9.26   \n",
       "2  Action, Comedy, Historical, Parody, Samurai, S...     TV       51    9.25   \n",
       "3                                   Sci-Fi, Thriller     TV       24    9.17   \n",
       "4  Action, Comedy, Historical, Parody, Samurai, S...     TV       51    9.16   \n",
       "\n",
       "   members  \n",
       "0   200630  \n",
       "1   793665  \n",
       "2   114262  \n",
       "3   673572  \n",
       "4   151266  "
      ]
     },
     "execution_count": 3,
     "metadata": {},
     "output_type": "execute_result"
    }
   ],
   "source": [
    "anime.head()"
   ]
  },
  {
   "cell_type": "code",
   "execution_count": 4,
   "id": "a3fb0593",
   "metadata": {},
   "outputs": [
    {
     "data": {
      "text/plain": [
       "(12294, 7)"
      ]
     },
     "execution_count": 4,
     "metadata": {},
     "output_type": "execute_result"
    }
   ],
   "source": [
    "anime.shape"
   ]
  },
  {
   "cell_type": "code",
   "execution_count": 5,
   "id": "0f264d1c",
   "metadata": {},
   "outputs": [
    {
     "name": "stdout",
     "output_type": "stream",
     "text": [
      "<class 'pandas.core.frame.DataFrame'>\n",
      "RangeIndex: 12294 entries, 0 to 12293\n",
      "Data columns (total 7 columns):\n",
      " #   Column    Non-Null Count  Dtype  \n",
      "---  ------    --------------  -----  \n",
      " 0   anime_id  12294 non-null  int64  \n",
      " 1   name      12294 non-null  object \n",
      " 2   genre     12232 non-null  object \n",
      " 3   type      12269 non-null  object \n",
      " 4   episodes  12294 non-null  object \n",
      " 5   rating    12064 non-null  float64\n",
      " 6   members   12294 non-null  int64  \n",
      "dtypes: float64(1), int64(2), object(4)\n",
      "memory usage: 672.5+ KB\n"
     ]
    }
   ],
   "source": [
    "anime.info()"
   ]
  },
  {
   "cell_type": "code",
   "execution_count": 6,
   "id": "73c2a2b1",
   "metadata": {},
   "outputs": [
    {
     "data": {
      "text/html": [
       "<div>\n",
       "<style scoped>\n",
       "    .dataframe tbody tr th:only-of-type {\n",
       "        vertical-align: middle;\n",
       "    }\n",
       "\n",
       "    .dataframe tbody tr th {\n",
       "        vertical-align: top;\n",
       "    }\n",
       "\n",
       "    .dataframe thead th {\n",
       "        text-align: right;\n",
       "    }\n",
       "</style>\n",
       "<table border=\"1\" class=\"dataframe\">\n",
       "  <thead>\n",
       "    <tr style=\"text-align: right;\">\n",
       "      <th></th>\n",
       "      <th>user_id</th>\n",
       "      <th>anime_id</th>\n",
       "      <th>rating</th>\n",
       "    </tr>\n",
       "  </thead>\n",
       "  <tbody>\n",
       "    <tr>\n",
       "      <th>0</th>\n",
       "      <td>1</td>\n",
       "      <td>20</td>\n",
       "      <td>-1</td>\n",
       "    </tr>\n",
       "    <tr>\n",
       "      <th>1</th>\n",
       "      <td>1</td>\n",
       "      <td>24</td>\n",
       "      <td>-1</td>\n",
       "    </tr>\n",
       "    <tr>\n",
       "      <th>2</th>\n",
       "      <td>1</td>\n",
       "      <td>79</td>\n",
       "      <td>-1</td>\n",
       "    </tr>\n",
       "    <tr>\n",
       "      <th>3</th>\n",
       "      <td>1</td>\n",
       "      <td>226</td>\n",
       "      <td>-1</td>\n",
       "    </tr>\n",
       "    <tr>\n",
       "      <th>4</th>\n",
       "      <td>1</td>\n",
       "      <td>241</td>\n",
       "      <td>-1</td>\n",
       "    </tr>\n",
       "  </tbody>\n",
       "</table>\n",
       "</div>"
      ],
      "text/plain": [
       "   user_id  anime_id  rating\n",
       "0        1        20      -1\n",
       "1        1        24      -1\n",
       "2        1        79      -1\n",
       "3        1       226      -1\n",
       "4        1       241      -1"
      ]
     },
     "execution_count": 6,
     "metadata": {},
     "output_type": "execute_result"
    }
   ],
   "source": [
    "ratings.head()"
   ]
  },
  {
   "cell_type": "code",
   "execution_count": 7,
   "id": "a317c670",
   "metadata": {},
   "outputs": [
    {
     "data": {
      "text/plain": [
       "(7813737, 3)"
      ]
     },
     "execution_count": 7,
     "metadata": {},
     "output_type": "execute_result"
    }
   ],
   "source": [
    "ratings.shape"
   ]
  },
  {
   "cell_type": "code",
   "execution_count": 8,
   "id": "d5b4fb1c",
   "metadata": {},
   "outputs": [
    {
     "name": "stdout",
     "output_type": "stream",
     "text": [
      "<class 'pandas.core.frame.DataFrame'>\n",
      "RangeIndex: 7813737 entries, 0 to 7813736\n",
      "Data columns (total 3 columns):\n",
      " #   Column    Dtype\n",
      "---  ------    -----\n",
      " 0   user_id   int64\n",
      " 1   anime_id  int64\n",
      " 2   rating    int64\n",
      "dtypes: int64(3)\n",
      "memory usage: 178.8 MB\n"
     ]
    }
   ],
   "source": [
    "ratings.info()"
   ]
  },
  {
   "cell_type": "markdown",
   "id": "782efd3d",
   "metadata": {},
   "source": [
    "Checking null values in anime data frame"
   ]
  },
  {
   "cell_type": "code",
   "execution_count": 9,
   "id": "42e61f01",
   "metadata": {},
   "outputs": [
    {
     "data": {
      "text/plain": [
       "anime_id      0\n",
       "name          0\n",
       "genre        62\n",
       "type         25\n",
       "episodes      0\n",
       "rating      230\n",
       "members       0\n",
       "dtype: int64"
      ]
     },
     "execution_count": 9,
     "metadata": {},
     "output_type": "execute_result"
    }
   ],
   "source": [
    "anime.isnull().sum()"
   ]
  },
  {
   "cell_type": "markdown",
   "id": "a426b845",
   "metadata": {},
   "source": [
    "Dropping Null Values in anime data frame"
   ]
  },
  {
   "cell_type": "code",
   "execution_count": 10,
   "id": "c7cb2e59",
   "metadata": {},
   "outputs": [],
   "source": [
    "anime.dropna(inplace=True)"
   ]
  },
  {
   "cell_type": "code",
   "execution_count": 11,
   "id": "d732c6ef",
   "metadata": {},
   "outputs": [
    {
     "data": {
      "text/plain": [
       "anime_id    0\n",
       "name        0\n",
       "genre       0\n",
       "type        0\n",
       "episodes    0\n",
       "rating      0\n",
       "members     0\n",
       "dtype: int64"
      ]
     },
     "execution_count": 11,
     "metadata": {},
     "output_type": "execute_result"
    }
   ],
   "source": [
    "anime.isnull().sum()"
   ]
  },
  {
   "cell_type": "code",
   "execution_count": 12,
   "id": "cf6c2a2c",
   "metadata": {},
   "outputs": [
    {
     "data": {
      "text/plain": [
       "0"
      ]
     },
     "execution_count": 12,
     "metadata": {},
     "output_type": "execute_result"
    }
   ],
   "source": [
    "# No Duplicates present in anime data frame\n",
    "anime.duplicated().sum()"
   ]
  },
  {
   "cell_type": "code",
   "execution_count": 13,
   "id": "8fc9102a",
   "metadata": {},
   "outputs": [
    {
     "data": {
      "text/plain": [
       "user_id     0\n",
       "anime_id    0\n",
       "rating      0\n",
       "dtype: int64"
      ]
     },
     "execution_count": 13,
     "metadata": {},
     "output_type": "execute_result"
    }
   ],
   "source": [
    "ratings.isnull().sum()"
   ]
  },
  {
   "cell_type": "code",
   "execution_count": 14,
   "id": "b49ac10f",
   "metadata": {},
   "outputs": [
    {
     "data": {
      "text/plain": [
       "1"
      ]
     },
     "execution_count": 14,
     "metadata": {},
     "output_type": "execute_result"
    }
   ],
   "source": [
    "ratings.duplicated().sum()"
   ]
  },
  {
   "cell_type": "code",
   "execution_count": 15,
   "id": "fb07382c",
   "metadata": {},
   "outputs": [
    {
     "name": "stdout",
     "output_type": "stream",
     "text": [
      "0\n"
     ]
    }
   ],
   "source": [
    "ratings.drop_duplicates(inplace=True)\n",
    "print(ratings.duplicated().sum())"
   ]
  },
  {
   "cell_type": "markdown",
   "id": "d74e48f9",
   "metadata": {},
   "source": [
    "# Feature Engineering"
   ]
  },
  {
   "cell_type": "code",
   "execution_count": 16,
   "id": "efa50a4e",
   "metadata": {},
   "outputs": [
    {
     "data": {
      "text/html": [
       "<div>\n",
       "<style scoped>\n",
       "    .dataframe tbody tr th:only-of-type {\n",
       "        vertical-align: middle;\n",
       "    }\n",
       "\n",
       "    .dataframe tbody tr th {\n",
       "        vertical-align: top;\n",
       "    }\n",
       "\n",
       "    .dataframe thead th {\n",
       "        text-align: right;\n",
       "    }\n",
       "</style>\n",
       "<table border=\"1\" class=\"dataframe\">\n",
       "  <thead>\n",
       "    <tr style=\"text-align: right;\">\n",
       "      <th></th>\n",
       "      <th>user_id</th>\n",
       "      <th>anime_id</th>\n",
       "      <th>rating</th>\n",
       "    </tr>\n",
       "  </thead>\n",
       "  <tbody>\n",
       "    <tr>\n",
       "      <th>0</th>\n",
       "      <td>1</td>\n",
       "      <td>20</td>\n",
       "      <td>NaN</td>\n",
       "    </tr>\n",
       "    <tr>\n",
       "      <th>1</th>\n",
       "      <td>1</td>\n",
       "      <td>24</td>\n",
       "      <td>NaN</td>\n",
       "    </tr>\n",
       "  </tbody>\n",
       "</table>\n",
       "</div>"
      ],
      "text/plain": [
       "   user_id  anime_id  rating\n",
       "0        1        20     NaN\n",
       "1        1        24     NaN"
      ]
     },
     "execution_count": 16,
     "metadata": {},
     "output_type": "execute_result"
    }
   ],
   "source": [
    "# Since -1 represents missing ratings. i will fill them with NaN rather than dropping.\n",
    "ratings['rating'] = ratings['rating'].apply(lambda x: np.nan if x==-1 else x)\n",
    "ratings.head(2)"
   ]
  },
  {
   "cell_type": "code",
   "execution_count": 17,
   "id": "712cc41e",
   "metadata": {},
   "outputs": [
    {
     "data": {
      "text/plain": [
       "73515"
      ]
     },
     "execution_count": 17,
     "metadata": {},
     "output_type": "execute_result"
    }
   ],
   "source": [
    "ratings['user_id'].nunique()"
   ]
  },
  {
   "cell_type": "code",
   "execution_count": 18,
   "id": "79ac5995",
   "metadata": {},
   "outputs": [
    {
     "data": {
      "text/html": [
       "<div>\n",
       "<style scoped>\n",
       "    .dataframe tbody tr th:only-of-type {\n",
       "        vertical-align: middle;\n",
       "    }\n",
       "\n",
       "    .dataframe tbody tr th {\n",
       "        vertical-align: top;\n",
       "    }\n",
       "\n",
       "    .dataframe thead th {\n",
       "        text-align: right;\n",
       "    }\n",
       "</style>\n",
       "<table border=\"1\" class=\"dataframe\">\n",
       "  <thead>\n",
       "    <tr style=\"text-align: right;\">\n",
       "      <th></th>\n",
       "      <th>anime_id</th>\n",
       "      <th>name</th>\n",
       "      <th>genre</th>\n",
       "      <th>type</th>\n",
       "      <th>episodes</th>\n",
       "      <th>rating</th>\n",
       "      <th>members</th>\n",
       "    </tr>\n",
       "  </thead>\n",
       "  <tbody>\n",
       "    <tr>\n",
       "      <th>0</th>\n",
       "      <td>32281</td>\n",
       "      <td>Kimi no Na wa.</td>\n",
       "      <td>Drama, Romance, School, Supernatural</td>\n",
       "      <td>Movie</td>\n",
       "      <td>1</td>\n",
       "      <td>9.37</td>\n",
       "      <td>200630</td>\n",
       "    </tr>\n",
       "    <tr>\n",
       "      <th>1</th>\n",
       "      <td>5114</td>\n",
       "      <td>Fullmetal Alchemist: Brotherhood</td>\n",
       "      <td>Action, Adventure, Drama, Fantasy, Magic, Mili...</td>\n",
       "      <td>TV</td>\n",
       "      <td>64</td>\n",
       "      <td>9.26</td>\n",
       "      <td>793665</td>\n",
       "    </tr>\n",
       "    <tr>\n",
       "      <th>2</th>\n",
       "      <td>28977</td>\n",
       "      <td>Gintama°</td>\n",
       "      <td>Action, Comedy, Historical, Parody, Samurai, S...</td>\n",
       "      <td>TV</td>\n",
       "      <td>51</td>\n",
       "      <td>9.25</td>\n",
       "      <td>114262</td>\n",
       "    </tr>\n",
       "    <tr>\n",
       "      <th>3</th>\n",
       "      <td>9253</td>\n",
       "      <td>Steins;Gate</td>\n",
       "      <td>Sci-Fi, Thriller</td>\n",
       "      <td>TV</td>\n",
       "      <td>24</td>\n",
       "      <td>9.17</td>\n",
       "      <td>673572</td>\n",
       "    </tr>\n",
       "    <tr>\n",
       "      <th>4</th>\n",
       "      <td>9969</td>\n",
       "      <td>Gintama&amp;#039;</td>\n",
       "      <td>Action, Comedy, Historical, Parody, Samurai, S...</td>\n",
       "      <td>TV</td>\n",
       "      <td>51</td>\n",
       "      <td>9.16</td>\n",
       "      <td>151266</td>\n",
       "    </tr>\n",
       "  </tbody>\n",
       "</table>\n",
       "</div>"
      ],
      "text/plain": [
       "   anime_id                              name  \\\n",
       "0     32281                    Kimi no Na wa.   \n",
       "1      5114  Fullmetal Alchemist: Brotherhood   \n",
       "2     28977                          Gintama°   \n",
       "3      9253                       Steins;Gate   \n",
       "4      9969                     Gintama&#039;   \n",
       "\n",
       "                                               genre   type episodes  rating  \\\n",
       "0               Drama, Romance, School, Supernatural  Movie        1    9.37   \n",
       "1  Action, Adventure, Drama, Fantasy, Magic, Mili...     TV       64    9.26   \n",
       "2  Action, Comedy, Historical, Parody, Samurai, S...     TV       51    9.25   \n",
       "3                                   Sci-Fi, Thriller     TV       24    9.17   \n",
       "4  Action, Comedy, Historical, Parody, Samurai, S...     TV       51    9.16   \n",
       "\n",
       "   members  \n",
       "0   200630  \n",
       "1   793665  \n",
       "2   114262  \n",
       "3   673572  \n",
       "4   151266  "
      ]
     },
     "execution_count": 18,
     "metadata": {},
     "output_type": "execute_result"
    }
   ],
   "source": [
    "anime.head()"
   ]
  },
  {
   "cell_type": "code",
   "execution_count": 19,
   "id": "f4352be5",
   "metadata": {},
   "outputs": [
    {
     "data": {
      "text/plain": [
       "3229"
      ]
     },
     "execution_count": 19,
     "metadata": {},
     "output_type": "execute_result"
    }
   ],
   "source": [
    "anime['genre'].nunique()"
   ]
  },
  {
   "cell_type": "code",
   "execution_count": 20,
   "id": "41f66961",
   "metadata": {},
   "outputs": [
    {
     "data": {
      "text/plain": [
       "array(['Movie', 'TV', 'OVA', 'Special', 'Music', 'ONA'], dtype=object)"
      ]
     },
     "execution_count": 20,
     "metadata": {},
     "output_type": "execute_result"
    }
   ],
   "source": [
    "anime['type'].unique()"
   ]
  },
  {
   "cell_type": "code",
   "execution_count": 21,
   "id": "c91623fe",
   "metadata": {},
   "outputs": [
    {
     "data": {
      "text/plain": [
       "type\n",
       "TV         3668\n",
       "OVA        3284\n",
       "Movie      2259\n",
       "Special    1670\n",
       "ONA         648\n",
       "Music       488\n",
       "Name: count, dtype: int64"
      ]
     },
     "execution_count": 21,
     "metadata": {},
     "output_type": "execute_result"
    }
   ],
   "source": [
    "anime['type'].value_counts()"
   ]
  },
  {
   "cell_type": "markdown",
   "id": "7f622d41",
   "metadata": {},
   "source": [
    "#### Merging the datasets"
   ]
  },
  {
   "cell_type": "code",
   "execution_count": 22,
   "id": "e5a2961c",
   "metadata": {},
   "outputs": [
    {
     "name": "stdout",
     "output_type": "stream",
     "text": [
      "(7813610, 9)\n"
     ]
    },
    {
     "data": {
      "text/html": [
       "<div>\n",
       "<style scoped>\n",
       "    .dataframe tbody tr th:only-of-type {\n",
       "        vertical-align: middle;\n",
       "    }\n",
       "\n",
       "    .dataframe tbody tr th {\n",
       "        vertical-align: top;\n",
       "    }\n",
       "\n",
       "    .dataframe thead th {\n",
       "        text-align: right;\n",
       "    }\n",
       "</style>\n",
       "<table border=\"1\" class=\"dataframe\">\n",
       "  <thead>\n",
       "    <tr style=\"text-align: right;\">\n",
       "      <th></th>\n",
       "      <th>user_id</th>\n",
       "      <th>anime_id</th>\n",
       "      <th>rating_user</th>\n",
       "      <th>name</th>\n",
       "      <th>genre</th>\n",
       "      <th>type</th>\n",
       "      <th>episodes</th>\n",
       "      <th>rating</th>\n",
       "      <th>members</th>\n",
       "    </tr>\n",
       "  </thead>\n",
       "  <tbody>\n",
       "    <tr>\n",
       "      <th>0</th>\n",
       "      <td>1</td>\n",
       "      <td>20</td>\n",
       "      <td>NaN</td>\n",
       "      <td>Naruto</td>\n",
       "      <td>Action, Comedy, Martial Arts, Shounen, Super P...</td>\n",
       "      <td>TV</td>\n",
       "      <td>220</td>\n",
       "      <td>7.81</td>\n",
       "      <td>683297</td>\n",
       "    </tr>\n",
       "    <tr>\n",
       "      <th>1</th>\n",
       "      <td>3</td>\n",
       "      <td>20</td>\n",
       "      <td>8.0</td>\n",
       "      <td>Naruto</td>\n",
       "      <td>Action, Comedy, Martial Arts, Shounen, Super P...</td>\n",
       "      <td>TV</td>\n",
       "      <td>220</td>\n",
       "      <td>7.81</td>\n",
       "      <td>683297</td>\n",
       "    </tr>\n",
       "  </tbody>\n",
       "</table>\n",
       "</div>"
      ],
      "text/plain": [
       "   user_id  anime_id  rating_user    name  \\\n",
       "0        1        20          NaN  Naruto   \n",
       "1        3        20          8.0  Naruto   \n",
       "\n",
       "                                               genre type episodes  rating  \\\n",
       "0  Action, Comedy, Martial Arts, Shounen, Super P...   TV      220    7.81   \n",
       "1  Action, Comedy, Martial Arts, Shounen, Super P...   TV      220    7.81   \n",
       "\n",
       "   members  \n",
       "0   683297  \n",
       "1   683297  "
      ]
     },
     "execution_count": 22,
     "metadata": {},
     "output_type": "execute_result"
    }
   ],
   "source": [
    "merged_df = ratings.merge(anime, left_on = 'anime_id', right_on = 'anime_id', suffixes= ['_user', ''])\n",
    "print(merged_df.shape)\n",
    "merged_df.head(2)"
   ]
  },
  {
   "cell_type": "code",
   "execution_count": 23,
   "id": "797373f8",
   "metadata": {},
   "outputs": [],
   "source": [
    "# For collaborative filtering we'll need to create a pivot table of users on one axis and tv show names along the other. \n",
    "# The pivot table will help us in defining the similarity between users and shows to better predict who will like what.\n",
    "\n",
    "colab_df = merged_df[['user_id', 'name', 'rating_user']]\n",
    "colab_df= colab_df[colab_df['user_id']<=10000]\n",
    "colab_piv = colab_df.pivot_table(index='user_id', columns='name', values='rating_user')"
   ]
  },
  {
   "cell_type": "code",
   "execution_count": 24,
   "id": "36c36ff1",
   "metadata": {},
   "outputs": [
    {
     "data": {
      "text/plain": [
       "(9467, 7924)"
      ]
     },
     "execution_count": 24,
     "metadata": {},
     "output_type": "execute_result"
    }
   ],
   "source": [
    "colab_piv.shape"
   ]
  },
  {
   "cell_type": "code",
   "execution_count": 25,
   "id": "e8715340",
   "metadata": {},
   "outputs": [],
   "source": [
    "# Value Normalization and Filling NaN Values\n",
    "\n",
    "piv_norm = colab_piv.apply(lambda x: (x-np.mean(x))/(np.max(x)-np.min(x)), axis=1)\n",
    "\n",
    "# Drop all columns containing only zeros representing users who did not rate\n",
    "\n",
    "piv_norm.fillna(0, inplace=True)"
   ]
  },
  {
   "cell_type": "code",
   "execution_count": 26,
   "id": "6bfe05a7",
   "metadata": {},
   "outputs": [
    {
     "data": {
      "text/html": [
       "<div>\n",
       "<style scoped>\n",
       "    .dataframe tbody tr th:only-of-type {\n",
       "        vertical-align: middle;\n",
       "    }\n",
       "\n",
       "    .dataframe tbody tr th {\n",
       "        vertical-align: top;\n",
       "    }\n",
       "\n",
       "    .dataframe thead th {\n",
       "        text-align: right;\n",
       "    }\n",
       "</style>\n",
       "<table border=\"1\" class=\"dataframe\">\n",
       "  <thead>\n",
       "    <tr style=\"text-align: right;\">\n",
       "      <th>name</th>\n",
       "      <th>&amp;quot;Bungaku Shoujo&amp;quot; Kyou no Oyatsu: Hatsukoi</th>\n",
       "      <th>&amp;quot;Bungaku Shoujo&amp;quot; Memoire</th>\n",
       "      <th>&amp;quot;Bungaku Shoujo&amp;quot; Movie</th>\n",
       "      <th>.hack//G.U. Returner</th>\n",
       "      <th>.hack//G.U. Trilogy</th>\n",
       "      <th>.hack//G.U. Trilogy: Parody Mode</th>\n",
       "      <th>.hack//Gift</th>\n",
       "      <th>.hack//Intermezzo</th>\n",
       "      <th>.hack//Liminality</th>\n",
       "      <th>.hack//Quantum</th>\n",
       "      <th>...</th>\n",
       "      <th>gdgd Fairies Movie: tte Iu Eiga wa Dou kana...?</th>\n",
       "      <th>iDOLM@STER Xenoglossia</th>\n",
       "      <th>iDOLM@STER Xenoglossia Specials</th>\n",
       "      <th>s.CRY.ed</th>\n",
       "      <th>xxxHOLiC</th>\n",
       "      <th>xxxHOLiC Kei</th>\n",
       "      <th>xxxHOLiC Movie: Manatsu no Yoru no Yume</th>\n",
       "      <th>xxxHOLiC Rou</th>\n",
       "      <th>xxxHOLiC Shunmuki</th>\n",
       "      <th>◯</th>\n",
       "    </tr>\n",
       "    <tr>\n",
       "      <th>user_id</th>\n",
       "      <th></th>\n",
       "      <th></th>\n",
       "      <th></th>\n",
       "      <th></th>\n",
       "      <th></th>\n",
       "      <th></th>\n",
       "      <th></th>\n",
       "      <th></th>\n",
       "      <th></th>\n",
       "      <th></th>\n",
       "      <th></th>\n",
       "      <th></th>\n",
       "      <th></th>\n",
       "      <th></th>\n",
       "      <th></th>\n",
       "      <th></th>\n",
       "      <th></th>\n",
       "      <th></th>\n",
       "      <th></th>\n",
       "      <th></th>\n",
       "      <th></th>\n",
       "    </tr>\n",
       "  </thead>\n",
       "  <tbody>\n",
       "    <tr>\n",
       "      <th>1</th>\n",
       "      <td>0.0</td>\n",
       "      <td>0.0</td>\n",
       "      <td>0.0</td>\n",
       "      <td>0.0</td>\n",
       "      <td>0.0</td>\n",
       "      <td>0.0</td>\n",
       "      <td>0.0</td>\n",
       "      <td>0.0</td>\n",
       "      <td>0.0</td>\n",
       "      <td>0.0</td>\n",
       "      <td>...</td>\n",
       "      <td>0.0</td>\n",
       "      <td>0.0</td>\n",
       "      <td>0.0</td>\n",
       "      <td>0.0</td>\n",
       "      <td>0.00000</td>\n",
       "      <td>0.0</td>\n",
       "      <td>0.0</td>\n",
       "      <td>0.0</td>\n",
       "      <td>0.0</td>\n",
       "      <td>0.0</td>\n",
       "    </tr>\n",
       "    <tr>\n",
       "      <th>2</th>\n",
       "      <td>0.0</td>\n",
       "      <td>0.0</td>\n",
       "      <td>0.0</td>\n",
       "      <td>0.0</td>\n",
       "      <td>0.0</td>\n",
       "      <td>0.0</td>\n",
       "      <td>0.0</td>\n",
       "      <td>0.0</td>\n",
       "      <td>0.0</td>\n",
       "      <td>0.0</td>\n",
       "      <td>...</td>\n",
       "      <td>0.0</td>\n",
       "      <td>0.0</td>\n",
       "      <td>0.0</td>\n",
       "      <td>0.0</td>\n",
       "      <td>0.00000</td>\n",
       "      <td>0.0</td>\n",
       "      <td>0.0</td>\n",
       "      <td>0.0</td>\n",
       "      <td>0.0</td>\n",
       "      <td>0.0</td>\n",
       "    </tr>\n",
       "    <tr>\n",
       "      <th>3</th>\n",
       "      <td>0.0</td>\n",
       "      <td>0.0</td>\n",
       "      <td>0.0</td>\n",
       "      <td>0.0</td>\n",
       "      <td>0.0</td>\n",
       "      <td>0.0</td>\n",
       "      <td>0.0</td>\n",
       "      <td>0.0</td>\n",
       "      <td>0.0</td>\n",
       "      <td>0.0</td>\n",
       "      <td>...</td>\n",
       "      <td>0.0</td>\n",
       "      <td>0.0</td>\n",
       "      <td>0.0</td>\n",
       "      <td>0.0</td>\n",
       "      <td>0.00000</td>\n",
       "      <td>0.0</td>\n",
       "      <td>0.0</td>\n",
       "      <td>0.0</td>\n",
       "      <td>0.0</td>\n",
       "      <td>0.0</td>\n",
       "    </tr>\n",
       "    <tr>\n",
       "      <th>5</th>\n",
       "      <td>0.0</td>\n",
       "      <td>0.0</td>\n",
       "      <td>0.0</td>\n",
       "      <td>0.0</td>\n",
       "      <td>0.0</td>\n",
       "      <td>0.0</td>\n",
       "      <td>0.0</td>\n",
       "      <td>0.0</td>\n",
       "      <td>0.0</td>\n",
       "      <td>0.0</td>\n",
       "      <td>...</td>\n",
       "      <td>0.0</td>\n",
       "      <td>0.0</td>\n",
       "      <td>0.0</td>\n",
       "      <td>0.0</td>\n",
       "      <td>-0.26168</td>\n",
       "      <td>0.0</td>\n",
       "      <td>0.0</td>\n",
       "      <td>0.0</td>\n",
       "      <td>0.0</td>\n",
       "      <td>0.0</td>\n",
       "    </tr>\n",
       "    <tr>\n",
       "      <th>7</th>\n",
       "      <td>0.0</td>\n",
       "      <td>0.0</td>\n",
       "      <td>0.0</td>\n",
       "      <td>0.0</td>\n",
       "      <td>0.0</td>\n",
       "      <td>0.0</td>\n",
       "      <td>0.0</td>\n",
       "      <td>0.0</td>\n",
       "      <td>0.0</td>\n",
       "      <td>0.0</td>\n",
       "      <td>...</td>\n",
       "      <td>0.0</td>\n",
       "      <td>0.0</td>\n",
       "      <td>0.0</td>\n",
       "      <td>0.0</td>\n",
       "      <td>0.00000</td>\n",
       "      <td>0.0</td>\n",
       "      <td>0.0</td>\n",
       "      <td>0.0</td>\n",
       "      <td>0.0</td>\n",
       "      <td>0.0</td>\n",
       "    </tr>\n",
       "  </tbody>\n",
       "</table>\n",
       "<p>5 rows × 7924 columns</p>\n",
       "</div>"
      ],
      "text/plain": [
       "name     &quot;Bungaku Shoujo&quot; Kyou no Oyatsu: Hatsukoi  \\\n",
       "user_id                                                        \n",
       "1                                                      0.0     \n",
       "2                                                      0.0     \n",
       "3                                                      0.0     \n",
       "5                                                      0.0     \n",
       "7                                                      0.0     \n",
       "\n",
       "name     &quot;Bungaku Shoujo&quot; Memoire  &quot;Bungaku Shoujo&quot; Movie  \\\n",
       "user_id                                                                         \n",
       "1                                       0.0                               0.0   \n",
       "2                                       0.0                               0.0   \n",
       "3                                       0.0                               0.0   \n",
       "5                                       0.0                               0.0   \n",
       "7                                       0.0                               0.0   \n",
       "\n",
       "name     .hack//G.U. Returner  .hack//G.U. Trilogy  \\\n",
       "user_id                                              \n",
       "1                         0.0                  0.0   \n",
       "2                         0.0                  0.0   \n",
       "3                         0.0                  0.0   \n",
       "5                         0.0                  0.0   \n",
       "7                         0.0                  0.0   \n",
       "\n",
       "name     .hack//G.U. Trilogy: Parody Mode  .hack//Gift  .hack//Intermezzo  \\\n",
       "user_id                                                                     \n",
       "1                                     0.0          0.0                0.0   \n",
       "2                                     0.0          0.0                0.0   \n",
       "3                                     0.0          0.0                0.0   \n",
       "5                                     0.0          0.0                0.0   \n",
       "7                                     0.0          0.0                0.0   \n",
       "\n",
       "name     .hack//Liminality  .hack//Quantum  ...  \\\n",
       "user_id                                     ...   \n",
       "1                      0.0             0.0  ...   \n",
       "2                      0.0             0.0  ...   \n",
       "3                      0.0             0.0  ...   \n",
       "5                      0.0             0.0  ...   \n",
       "7                      0.0             0.0  ...   \n",
       "\n",
       "name     gdgd Fairies Movie: tte Iu Eiga wa Dou kana...?  \\\n",
       "user_id                                                    \n",
       "1                                                    0.0   \n",
       "2                                                    0.0   \n",
       "3                                                    0.0   \n",
       "5                                                    0.0   \n",
       "7                                                    0.0   \n",
       "\n",
       "name     iDOLM@STER Xenoglossia  iDOLM@STER Xenoglossia Specials  s.CRY.ed  \\\n",
       "user_id                                                                      \n",
       "1                           0.0                              0.0       0.0   \n",
       "2                           0.0                              0.0       0.0   \n",
       "3                           0.0                              0.0       0.0   \n",
       "5                           0.0                              0.0       0.0   \n",
       "7                           0.0                              0.0       0.0   \n",
       "\n",
       "name     xxxHOLiC  xxxHOLiC Kei  xxxHOLiC Movie: Manatsu no Yoru no Yume  \\\n",
       "user_id                                                                    \n",
       "1         0.00000           0.0                                      0.0   \n",
       "2         0.00000           0.0                                      0.0   \n",
       "3         0.00000           0.0                                      0.0   \n",
       "5        -0.26168           0.0                                      0.0   \n",
       "7         0.00000           0.0                                      0.0   \n",
       "\n",
       "name     xxxHOLiC Rou  xxxHOLiC Shunmuki    ◯  \n",
       "user_id                                        \n",
       "1                 0.0                0.0  0.0  \n",
       "2                 0.0                0.0  0.0  \n",
       "3                 0.0                0.0  0.0  \n",
       "5                 0.0                0.0  0.0  \n",
       "7                 0.0                0.0  0.0  \n",
       "\n",
       "[5 rows x 7924 columns]"
      ]
     },
     "execution_count": 26,
     "metadata": {},
     "output_type": "execute_result"
    }
   ],
   "source": [
    "piv_norm.head()"
   ]
  },
  {
   "cell_type": "code",
   "execution_count": 27,
   "id": "781eca47",
   "metadata": {},
   "outputs": [],
   "source": [
    "# Transpose\n",
    "piv_norm = piv_norm.T\n",
    "\n",
    "# Drop all columns containing only zeros representing users who did not rate any anime.\n",
    "piv_norm = piv_norm.loc[:, (piv_norm != 0).any(axis=0)]"
   ]
  },
  {
   "cell_type": "code",
   "execution_count": 28,
   "id": "e6e8d7e9",
   "metadata": {},
   "outputs": [
    {
     "data": {
      "text/html": [
       "<div>\n",
       "<style scoped>\n",
       "    .dataframe tbody tr th:only-of-type {\n",
       "        vertical-align: middle;\n",
       "    }\n",
       "\n",
       "    .dataframe tbody tr th {\n",
       "        vertical-align: top;\n",
       "    }\n",
       "\n",
       "    .dataframe thead th {\n",
       "        text-align: right;\n",
       "    }\n",
       "</style>\n",
       "<table border=\"1\" class=\"dataframe\">\n",
       "  <thead>\n",
       "    <tr style=\"text-align: right;\">\n",
       "      <th>user_id</th>\n",
       "      <th>3</th>\n",
       "      <th>5</th>\n",
       "      <th>7</th>\n",
       "      <th>8</th>\n",
       "      <th>10</th>\n",
       "      <th>11</th>\n",
       "      <th>12</th>\n",
       "      <th>14</th>\n",
       "      <th>16</th>\n",
       "      <th>17</th>\n",
       "      <th>...</th>\n",
       "      <th>9991</th>\n",
       "      <th>9992</th>\n",
       "      <th>9993</th>\n",
       "      <th>9994</th>\n",
       "      <th>9995</th>\n",
       "      <th>9996</th>\n",
       "      <th>9997</th>\n",
       "      <th>9998</th>\n",
       "      <th>9999</th>\n",
       "      <th>10000</th>\n",
       "    </tr>\n",
       "    <tr>\n",
       "      <th>name</th>\n",
       "      <th></th>\n",
       "      <th></th>\n",
       "      <th></th>\n",
       "      <th></th>\n",
       "      <th></th>\n",
       "      <th></th>\n",
       "      <th></th>\n",
       "      <th></th>\n",
       "      <th></th>\n",
       "      <th></th>\n",
       "      <th></th>\n",
       "      <th></th>\n",
       "      <th></th>\n",
       "      <th></th>\n",
       "      <th></th>\n",
       "      <th></th>\n",
       "      <th></th>\n",
       "      <th></th>\n",
       "      <th></th>\n",
       "      <th></th>\n",
       "      <th></th>\n",
       "    </tr>\n",
       "  </thead>\n",
       "  <tbody>\n",
       "    <tr>\n",
       "      <th>&amp;quot;Bungaku Shoujo&amp;quot; Kyou no Oyatsu: Hatsukoi</th>\n",
       "      <td>0.0</td>\n",
       "      <td>0.0</td>\n",
       "      <td>0.0</td>\n",
       "      <td>0.0</td>\n",
       "      <td>0.0</td>\n",
       "      <td>0.0</td>\n",
       "      <td>0.0</td>\n",
       "      <td>0.000000</td>\n",
       "      <td>0.0</td>\n",
       "      <td>0.0</td>\n",
       "      <td>...</td>\n",
       "      <td>0.0</td>\n",
       "      <td>0.0</td>\n",
       "      <td>0.0</td>\n",
       "      <td>0.0</td>\n",
       "      <td>-0.130098</td>\n",
       "      <td>0.0</td>\n",
       "      <td>0.0</td>\n",
       "      <td>0.0</td>\n",
       "      <td>0.0</td>\n",
       "      <td>0.0</td>\n",
       "    </tr>\n",
       "    <tr>\n",
       "      <th>&amp;quot;Bungaku Shoujo&amp;quot; Memoire</th>\n",
       "      <td>0.0</td>\n",
       "      <td>0.0</td>\n",
       "      <td>0.0</td>\n",
       "      <td>0.0</td>\n",
       "      <td>0.0</td>\n",
       "      <td>0.0</td>\n",
       "      <td>0.0</td>\n",
       "      <td>0.000000</td>\n",
       "      <td>0.0</td>\n",
       "      <td>0.0</td>\n",
       "      <td>...</td>\n",
       "      <td>0.0</td>\n",
       "      <td>0.0</td>\n",
       "      <td>0.0</td>\n",
       "      <td>0.0</td>\n",
       "      <td>-0.018987</td>\n",
       "      <td>0.0</td>\n",
       "      <td>0.0</td>\n",
       "      <td>0.0</td>\n",
       "      <td>0.0</td>\n",
       "      <td>0.0</td>\n",
       "    </tr>\n",
       "    <tr>\n",
       "      <th>&amp;quot;Bungaku Shoujo&amp;quot; Movie</th>\n",
       "      <td>0.0</td>\n",
       "      <td>0.0</td>\n",
       "      <td>0.0</td>\n",
       "      <td>0.0</td>\n",
       "      <td>0.0</td>\n",
       "      <td>0.0</td>\n",
       "      <td>0.0</td>\n",
       "      <td>0.160976</td>\n",
       "      <td>0.0</td>\n",
       "      <td>0.0</td>\n",
       "      <td>...</td>\n",
       "      <td>0.0</td>\n",
       "      <td>0.0</td>\n",
       "      <td>0.0</td>\n",
       "      <td>0.0</td>\n",
       "      <td>0.000000</td>\n",
       "      <td>0.0</td>\n",
       "      <td>0.0</td>\n",
       "      <td>0.0</td>\n",
       "      <td>0.0</td>\n",
       "      <td>0.0</td>\n",
       "    </tr>\n",
       "    <tr>\n",
       "      <th>.hack//G.U. Returner</th>\n",
       "      <td>0.0</td>\n",
       "      <td>0.0</td>\n",
       "      <td>0.0</td>\n",
       "      <td>0.0</td>\n",
       "      <td>0.0</td>\n",
       "      <td>0.0</td>\n",
       "      <td>0.0</td>\n",
       "      <td>0.000000</td>\n",
       "      <td>0.0</td>\n",
       "      <td>0.0</td>\n",
       "      <td>...</td>\n",
       "      <td>0.0</td>\n",
       "      <td>0.0</td>\n",
       "      <td>0.0</td>\n",
       "      <td>0.0</td>\n",
       "      <td>0.000000</td>\n",
       "      <td>0.0</td>\n",
       "      <td>0.0</td>\n",
       "      <td>0.0</td>\n",
       "      <td>0.0</td>\n",
       "      <td>0.0</td>\n",
       "    </tr>\n",
       "    <tr>\n",
       "      <th>.hack//G.U. Trilogy</th>\n",
       "      <td>0.0</td>\n",
       "      <td>0.0</td>\n",
       "      <td>0.0</td>\n",
       "      <td>0.0</td>\n",
       "      <td>0.0</td>\n",
       "      <td>0.0</td>\n",
       "      <td>0.0</td>\n",
       "      <td>0.000000</td>\n",
       "      <td>0.0</td>\n",
       "      <td>0.0</td>\n",
       "      <td>...</td>\n",
       "      <td>0.0</td>\n",
       "      <td>0.0</td>\n",
       "      <td>0.0</td>\n",
       "      <td>0.0</td>\n",
       "      <td>0.092124</td>\n",
       "      <td>0.0</td>\n",
       "      <td>0.0</td>\n",
       "      <td>0.0</td>\n",
       "      <td>0.0</td>\n",
       "      <td>0.0</td>\n",
       "    </tr>\n",
       "  </tbody>\n",
       "</table>\n",
       "<p>5 rows × 8661 columns</p>\n",
       "</div>"
      ],
      "text/plain": [
       "user_id                                             3      5      7      \\\n",
       "name                                                                      \n",
       "&quot;Bungaku Shoujo&quot; Kyou no Oyatsu: Hats...    0.0    0.0    0.0   \n",
       "&quot;Bungaku Shoujo&quot; Memoire                    0.0    0.0    0.0   \n",
       "&quot;Bungaku Shoujo&quot; Movie                      0.0    0.0    0.0   \n",
       ".hack//G.U. Returner                                  0.0    0.0    0.0   \n",
       ".hack//G.U. Trilogy                                   0.0    0.0    0.0   \n",
       "\n",
       "user_id                                             8      10     11     \\\n",
       "name                                                                      \n",
       "&quot;Bungaku Shoujo&quot; Kyou no Oyatsu: Hats...    0.0    0.0    0.0   \n",
       "&quot;Bungaku Shoujo&quot; Memoire                    0.0    0.0    0.0   \n",
       "&quot;Bungaku Shoujo&quot; Movie                      0.0    0.0    0.0   \n",
       ".hack//G.U. Returner                                  0.0    0.0    0.0   \n",
       ".hack//G.U. Trilogy                                   0.0    0.0    0.0   \n",
       "\n",
       "user_id                                             12        14     16     \\\n",
       "name                                                                         \n",
       "&quot;Bungaku Shoujo&quot; Kyou no Oyatsu: Hats...    0.0  0.000000    0.0   \n",
       "&quot;Bungaku Shoujo&quot; Memoire                    0.0  0.000000    0.0   \n",
       "&quot;Bungaku Shoujo&quot; Movie                      0.0  0.160976    0.0   \n",
       ".hack//G.U. Returner                                  0.0  0.000000    0.0   \n",
       ".hack//G.U. Trilogy                                   0.0  0.000000    0.0   \n",
       "\n",
       "user_id                                             17     ...  9991   9992   \\\n",
       "name                                                       ...                 \n",
       "&quot;Bungaku Shoujo&quot; Kyou no Oyatsu: Hats...    0.0  ...    0.0    0.0   \n",
       "&quot;Bungaku Shoujo&quot; Memoire                    0.0  ...    0.0    0.0   \n",
       "&quot;Bungaku Shoujo&quot; Movie                      0.0  ...    0.0    0.0   \n",
       ".hack//G.U. Returner                                  0.0  ...    0.0    0.0   \n",
       ".hack//G.U. Trilogy                                   0.0  ...    0.0    0.0   \n",
       "\n",
       "user_id                                             9993   9994      9995   \\\n",
       "name                                                                         \n",
       "&quot;Bungaku Shoujo&quot; Kyou no Oyatsu: Hats...    0.0    0.0 -0.130098   \n",
       "&quot;Bungaku Shoujo&quot; Memoire                    0.0    0.0 -0.018987   \n",
       "&quot;Bungaku Shoujo&quot; Movie                      0.0    0.0  0.000000   \n",
       ".hack//G.U. Returner                                  0.0    0.0  0.000000   \n",
       ".hack//G.U. Trilogy                                   0.0    0.0  0.092124   \n",
       "\n",
       "user_id                                             9996   9997   9998   \\\n",
       "name                                                                      \n",
       "&quot;Bungaku Shoujo&quot; Kyou no Oyatsu: Hats...    0.0    0.0    0.0   \n",
       "&quot;Bungaku Shoujo&quot; Memoire                    0.0    0.0    0.0   \n",
       "&quot;Bungaku Shoujo&quot; Movie                      0.0    0.0    0.0   \n",
       ".hack//G.U. Returner                                  0.0    0.0    0.0   \n",
       ".hack//G.U. Trilogy                                   0.0    0.0    0.0   \n",
       "\n",
       "user_id                                             9999   10000  \n",
       "name                                                              \n",
       "&quot;Bungaku Shoujo&quot; Kyou no Oyatsu: Hats...    0.0    0.0  \n",
       "&quot;Bungaku Shoujo&quot; Memoire                    0.0    0.0  \n",
       "&quot;Bungaku Shoujo&quot; Movie                      0.0    0.0  \n",
       ".hack//G.U. Returner                                  0.0    0.0  \n",
       ".hack//G.U. Trilogy                                   0.0    0.0  \n",
       "\n",
       "[5 rows x 8661 columns]"
      ]
     },
     "execution_count": 28,
     "metadata": {},
     "output_type": "execute_result"
    }
   ],
   "source": [
    "piv_norm.head()"
   ]
  },
  {
   "cell_type": "code",
   "execution_count": 29,
   "id": "d52f8a7b",
   "metadata": {},
   "outputs": [
    {
     "data": {
      "text/plain": [
       "(7924, 8661)"
      ]
     },
     "execution_count": 29,
     "metadata": {},
     "output_type": "execute_result"
    }
   ],
   "source": [
    "piv_norm.shape"
   ]
  },
  {
   "cell_type": "code",
   "execution_count": 30,
   "id": "e0f0ecde",
   "metadata": {},
   "outputs": [],
   "source": [
    "# convert to sparse matrix format for the similarity computation as in the dataframe more than 2/3rd values are 0.\n",
    "piv_sparse = csr_matrix(piv_norm.values)"
   ]
  },
  {
   "cell_type": "markdown",
   "id": "3ee94e33",
   "metadata": {},
   "source": [
    "### Cosine Similarity"
   ]
  },
  {
   "cell_type": "code",
   "execution_count": 31,
   "id": "d8da5564",
   "metadata": {},
   "outputs": [],
   "source": [
    "#model based on anime similarity\n",
    "anime_similarity = cosine_similarity(piv_sparse)\n",
    "\n",
    "#Df of anime similarities\n",
    "ani_sim_df = pd.DataFrame(anime_similarity, index = piv_norm.index, columns = piv_norm.index)"
   ]
  },
  {
   "cell_type": "code",
   "execution_count": 32,
   "id": "b5e19e38",
   "metadata": {},
   "outputs": [
    {
     "data": {
      "text/html": [
       "<div>\n",
       "<style scoped>\n",
       "    .dataframe tbody tr th:only-of-type {\n",
       "        vertical-align: middle;\n",
       "    }\n",
       "\n",
       "    .dataframe tbody tr th {\n",
       "        vertical-align: top;\n",
       "    }\n",
       "\n",
       "    .dataframe thead th {\n",
       "        text-align: right;\n",
       "    }\n",
       "</style>\n",
       "<table border=\"1\" class=\"dataframe\">\n",
       "  <thead>\n",
       "    <tr style=\"text-align: right;\">\n",
       "      <th>name</th>\n",
       "      <th>&amp;quot;Bungaku Shoujo&amp;quot; Kyou no Oyatsu: Hatsukoi</th>\n",
       "      <th>&amp;quot;Bungaku Shoujo&amp;quot; Memoire</th>\n",
       "      <th>&amp;quot;Bungaku Shoujo&amp;quot; Movie</th>\n",
       "      <th>.hack//G.U. Returner</th>\n",
       "      <th>.hack//G.U. Trilogy</th>\n",
       "      <th>.hack//G.U. Trilogy: Parody Mode</th>\n",
       "      <th>.hack//Gift</th>\n",
       "      <th>.hack//Intermezzo</th>\n",
       "      <th>.hack//Liminality</th>\n",
       "      <th>.hack//Quantum</th>\n",
       "      <th>...</th>\n",
       "      <th>gdgd Fairies Movie: tte Iu Eiga wa Dou kana...?</th>\n",
       "      <th>iDOLM@STER Xenoglossia</th>\n",
       "      <th>iDOLM@STER Xenoglossia Specials</th>\n",
       "      <th>s.CRY.ed</th>\n",
       "      <th>xxxHOLiC</th>\n",
       "      <th>xxxHOLiC Kei</th>\n",
       "      <th>xxxHOLiC Movie: Manatsu no Yoru no Yume</th>\n",
       "      <th>xxxHOLiC Rou</th>\n",
       "      <th>xxxHOLiC Shunmuki</th>\n",
       "      <th>◯</th>\n",
       "    </tr>\n",
       "    <tr>\n",
       "      <th>name</th>\n",
       "      <th></th>\n",
       "      <th></th>\n",
       "      <th></th>\n",
       "      <th></th>\n",
       "      <th></th>\n",
       "      <th></th>\n",
       "      <th></th>\n",
       "      <th></th>\n",
       "      <th></th>\n",
       "      <th></th>\n",
       "      <th></th>\n",
       "      <th></th>\n",
       "      <th></th>\n",
       "      <th></th>\n",
       "      <th></th>\n",
       "      <th></th>\n",
       "      <th></th>\n",
       "      <th></th>\n",
       "      <th></th>\n",
       "      <th></th>\n",
       "      <th></th>\n",
       "    </tr>\n",
       "  </thead>\n",
       "  <tbody>\n",
       "    <tr>\n",
       "      <th>&amp;quot;Bungaku Shoujo&amp;quot; Kyou no Oyatsu: Hatsukoi</th>\n",
       "      <td>1.000000</td>\n",
       "      <td>0.215921</td>\n",
       "      <td>0.217107</td>\n",
       "      <td>-0.027137</td>\n",
       "      <td>-0.011489</td>\n",
       "      <td>-0.053508</td>\n",
       "      <td>-0.018440</td>\n",
       "      <td>0.008172</td>\n",
       "      <td>-0.039032</td>\n",
       "      <td>0.038659</td>\n",
       "      <td>...</td>\n",
       "      <td>0.0</td>\n",
       "      <td>-0.008973</td>\n",
       "      <td>0.008150</td>\n",
       "      <td>0.001440</td>\n",
       "      <td>0.030337</td>\n",
       "      <td>0.025256</td>\n",
       "      <td>0.053544</td>\n",
       "      <td>0.074282</td>\n",
       "      <td>0.040303</td>\n",
       "      <td>0.0</td>\n",
       "    </tr>\n",
       "    <tr>\n",
       "      <th>&amp;quot;Bungaku Shoujo&amp;quot; Memoire</th>\n",
       "      <td>0.215921</td>\n",
       "      <td>1.000000</td>\n",
       "      <td>0.412676</td>\n",
       "      <td>-0.092209</td>\n",
       "      <td>-0.042651</td>\n",
       "      <td>-0.160894</td>\n",
       "      <td>-0.059462</td>\n",
       "      <td>-0.024930</td>\n",
       "      <td>-0.039077</td>\n",
       "      <td>0.086153</td>\n",
       "      <td>...</td>\n",
       "      <td>0.0</td>\n",
       "      <td>-0.007546</td>\n",
       "      <td>-0.016147</td>\n",
       "      <td>-0.024695</td>\n",
       "      <td>-0.008115</td>\n",
       "      <td>-0.011057</td>\n",
       "      <td>-0.014199</td>\n",
       "      <td>0.004943</td>\n",
       "      <td>-0.002507</td>\n",
       "      <td>0.0</td>\n",
       "    </tr>\n",
       "  </tbody>\n",
       "</table>\n",
       "<p>2 rows × 7924 columns</p>\n",
       "</div>"
      ],
      "text/plain": [
       "name                                                &quot;Bungaku Shoujo&quot; Kyou no Oyatsu: Hatsukoi  \\\n",
       "name                                                                                                      \n",
       "&quot;Bungaku Shoujo&quot; Kyou no Oyatsu: Hats...                                           1.000000     \n",
       "&quot;Bungaku Shoujo&quot; Memoire                                                           0.215921     \n",
       "\n",
       "name                                                &quot;Bungaku Shoujo&quot; Memoire  \\\n",
       "name                                                                                     \n",
       "&quot;Bungaku Shoujo&quot; Kyou no Oyatsu: Hats...                            0.215921   \n",
       "&quot;Bungaku Shoujo&quot; Memoire                                            1.000000   \n",
       "\n",
       "name                                                &quot;Bungaku Shoujo&quot; Movie  \\\n",
       "name                                                                                   \n",
       "&quot;Bungaku Shoujo&quot; Kyou no Oyatsu: Hats...                          0.217107   \n",
       "&quot;Bungaku Shoujo&quot; Memoire                                          0.412676   \n",
       "\n",
       "name                                                .hack//G.U. Returner  \\\n",
       "name                                                                       \n",
       "&quot;Bungaku Shoujo&quot; Kyou no Oyatsu: Hats...             -0.027137   \n",
       "&quot;Bungaku Shoujo&quot; Memoire                             -0.092209   \n",
       "\n",
       "name                                                .hack//G.U. Trilogy  \\\n",
       "name                                                                      \n",
       "&quot;Bungaku Shoujo&quot; Kyou no Oyatsu: Hats...            -0.011489   \n",
       "&quot;Bungaku Shoujo&quot; Memoire                            -0.042651   \n",
       "\n",
       "name                                                .hack//G.U. Trilogy: Parody Mode  \\\n",
       "name                                                                                   \n",
       "&quot;Bungaku Shoujo&quot; Kyou no Oyatsu: Hats...                         -0.053508   \n",
       "&quot;Bungaku Shoujo&quot; Memoire                                         -0.160894   \n",
       "\n",
       "name                                                .hack//Gift  \\\n",
       "name                                                              \n",
       "&quot;Bungaku Shoujo&quot; Kyou no Oyatsu: Hats...    -0.018440   \n",
       "&quot;Bungaku Shoujo&quot; Memoire                    -0.059462   \n",
       "\n",
       "name                                                .hack//Intermezzo  \\\n",
       "name                                                                    \n",
       "&quot;Bungaku Shoujo&quot; Kyou no Oyatsu: Hats...           0.008172   \n",
       "&quot;Bungaku Shoujo&quot; Memoire                          -0.024930   \n",
       "\n",
       "name                                                .hack//Liminality  \\\n",
       "name                                                                    \n",
       "&quot;Bungaku Shoujo&quot; Kyou no Oyatsu: Hats...          -0.039032   \n",
       "&quot;Bungaku Shoujo&quot; Memoire                          -0.039077   \n",
       "\n",
       "name                                                .hack//Quantum  ...  \\\n",
       "name                                                                ...   \n",
       "&quot;Bungaku Shoujo&quot; Kyou no Oyatsu: Hats...        0.038659  ...   \n",
       "&quot;Bungaku Shoujo&quot; Memoire                        0.086153  ...   \n",
       "\n",
       "name                                                gdgd Fairies Movie: tte Iu Eiga wa Dou kana...?  \\\n",
       "name                                                                                                  \n",
       "&quot;Bungaku Shoujo&quot; Kyou no Oyatsu: Hats...                                              0.0   \n",
       "&quot;Bungaku Shoujo&quot; Memoire                                                              0.0   \n",
       "\n",
       "name                                                iDOLM@STER Xenoglossia  \\\n",
       "name                                                                         \n",
       "&quot;Bungaku Shoujo&quot; Kyou no Oyatsu: Hats...               -0.008973   \n",
       "&quot;Bungaku Shoujo&quot; Memoire                               -0.007546   \n",
       "\n",
       "name                                                iDOLM@STER Xenoglossia Specials  \\\n",
       "name                                                                                  \n",
       "&quot;Bungaku Shoujo&quot; Kyou no Oyatsu: Hats...                         0.008150   \n",
       "&quot;Bungaku Shoujo&quot; Memoire                                        -0.016147   \n",
       "\n",
       "name                                                s.CRY.ed  xxxHOLiC  \\\n",
       "name                                                                     \n",
       "&quot;Bungaku Shoujo&quot; Kyou no Oyatsu: Hats...  0.001440  0.030337   \n",
       "&quot;Bungaku Shoujo&quot; Memoire                 -0.024695 -0.008115   \n",
       "\n",
       "name                                                xxxHOLiC Kei  \\\n",
       "name                                                               \n",
       "&quot;Bungaku Shoujo&quot; Kyou no Oyatsu: Hats...      0.025256   \n",
       "&quot;Bungaku Shoujo&quot; Memoire                     -0.011057   \n",
       "\n",
       "name                                                xxxHOLiC Movie: Manatsu no Yoru no Yume  \\\n",
       "name                                                                                          \n",
       "&quot;Bungaku Shoujo&quot; Kyou no Oyatsu: Hats...                                 0.053544   \n",
       "&quot;Bungaku Shoujo&quot; Memoire                                                -0.014199   \n",
       "\n",
       "name                                                xxxHOLiC Rou  \\\n",
       "name                                                               \n",
       "&quot;Bungaku Shoujo&quot; Kyou no Oyatsu: Hats...      0.074282   \n",
       "&quot;Bungaku Shoujo&quot; Memoire                      0.004943   \n",
       "\n",
       "name                                                xxxHOLiC Shunmuki    ◯  \n",
       "name                                                                        \n",
       "&quot;Bungaku Shoujo&quot; Kyou no Oyatsu: Hats...           0.040303  0.0  \n",
       "&quot;Bungaku Shoujo&quot; Memoire                          -0.002507  0.0  \n",
       "\n",
       "[2 rows x 7924 columns]"
      ]
     },
     "execution_count": 32,
     "metadata": {},
     "output_type": "execute_result"
    }
   ],
   "source": [
    "ani_sim_df.head(2)"
   ]
  },
  {
   "cell_type": "code",
   "execution_count": 33,
   "id": "2eec5c8b",
   "metadata": {},
   "outputs": [
    {
     "data": {
      "text/plain": [
       "(7924, 7924)"
      ]
     },
     "execution_count": 33,
     "metadata": {},
     "output_type": "execute_result"
    }
   ],
   "source": [
    "ani_sim_df.shape"
   ]
  },
  {
   "cell_type": "markdown",
   "id": "af947d3b",
   "metadata": {},
   "source": [
    "## Collaborative Recommender"
   ]
  },
  {
   "cell_type": "code",
   "execution_count": 34,
   "id": "fca5e7c7",
   "metadata": {},
   "outputs": [],
   "source": [
    "# This function will return the top 10 shows with the highest cosine similarity value and show match percent\n",
    "\n",
    "def anime_recommendation(ani_name):   \n",
    "    try:\n",
    "    \n",
    "        number = 1\n",
    "        print('Recommended because you watched {}:\\n'.format(ani_name))\n",
    "        for anime in ani_sim_df.sort_values(by = ani_name, ascending = False).index[1:11]:\n",
    "            print(f'#{number}: {anime}, {round(ani_sim_df[anime][ani_name]*100,2)}% match')\n",
    "            number +=1\n",
    "    except IndexError:\n",
    "        # If the anime name is not found, handle the exception\n",
    "        return \"Anime not found. Please enter a valid anime name.\"\n",
    "    except Exception as e:\n",
    "        # Handle other potential exceptions\n",
    "        return f\"An error occurred. Please Try again.{e}\""
   ]
  },
  {
   "cell_type": "code",
   "execution_count": 35,
   "id": "cecb535e",
   "metadata": {},
   "outputs": [
    {
     "name": "stdout",
     "output_type": "stream",
     "text": [
      "Recommended because you watched Naruto:\n",
      "\n",
      "#1: Naruto: Shippuuden Movie 1, 11.7% match\n",
      "#2: Bleach, 9.75% match\n",
      "#3: Naruto Movie 1: Dai Katsugeki!! Yuki Hime Shinobu Houjou Dattebayo!, 9.31% match\n",
      "#4: Naruto: Shippuuden Movie 2 - Kizuna, 7.79% match\n",
      "#5: Naruto: Shippuuden Movie 6 - Road to Ninja, 7.5% match\n",
      "#6: Naruto: Shippuuden Movie 5 - Blood Prison, 7.41% match\n",
      "#7: Gunslinger Stratos, 6.8% match\n",
      "#8: Sword Gai, 6.79% match\n",
      "#9: Dragon Ball Z, 6.43% match\n",
      "#10: Naruto: Shippuuden Movie 3 - Hi no Ishi wo Tsugu Mono, 6.08% match\n"
     ]
    }
   ],
   "source": [
    "anime_recommendation('Naruto')"
   ]
  },
  {
   "cell_type": "code",
   "execution_count": 36,
   "id": "383a5a6f",
   "metadata": {},
   "outputs": [
    {
     "name": "stdout",
     "output_type": "stream",
     "text": [
      "Recommended because you watched Shingeki no Kyojin:\n",
      "\n",
      "#1: Fullmetal Alchemist: Brotherhood, 28.29% match\n",
      "#2: Steins;Gate, 24.84% match\n",
      "#3: Death Note, 24.2% match\n",
      "#4: Code Geass: Hangyaku no Lelouch R2, 23.16% match\n",
      "#5: Code Geass: Hangyaku no Lelouch, 22.54% match\n",
      "#6: One Punch Man, 22.45% match\n",
      "#7: Hunter x Hunter (2011), 21.62% match\n",
      "#8: Kiseijuu: Sei no Kakuritsu, 20.94% match\n",
      "#9: Shingeki no Kyojin: Kuinaki Sentaku, 18.48% match\n",
      "#10: Psycho-Pass, 18.13% match\n"
     ]
    }
   ],
   "source": [
    "anime_recommendation('Shingeki no Kyojin')"
   ]
  },
  {
   "cell_type": "markdown",
   "id": "c13544ef",
   "metadata": {},
   "source": [
    "## Content based Recommender"
   ]
  },
  {
   "cell_type": "code",
   "execution_count": 37,
   "id": "c1b77022",
   "metadata": {},
   "outputs": [],
   "source": [
    "def content_based_recommendation(anime_name, anime_df=anime):\n",
    "    try:\n",
    "        # Step 1: TF-IDF Vectorization -- Converts text data into numerical vectors\n",
    "        # Captures the importance of each word in the 'genre' column. \n",
    "        # Words that are frequent in a specific anime's genre but rare across all anime will have higher weights\n",
    "\n",
    "        tfidf_vectorizer = TfidfVectorizer(stop_words='english')\n",
    "        tfidf_matrix = tfidf_vectorizer.fit_transform(anime['genre'])\n",
    "\n",
    "\n",
    "        # Step 2: Calculate Similarity Scores\n",
    "        # measures the cosine of the angle between two vectors identifying how similar two anime's are.\n",
    "\n",
    "        cosine_sim = linear_kernel(tfidf_matrix, tfidf_matrix)\n",
    "        \n",
    "        # Step 3: Get Index of the Anime to locate the position of the target anime in the similarity scores\n",
    "\n",
    "        anime_index = anime_df[anime_df['name'] == anime_name].index[0]\n",
    "\n",
    "        # Step 4: Get Similarity Scores -- Retrieves the similarity scores of the target anime with all other anime.\n",
    "\n",
    "        sim_scores = list(enumerate(cosine_sim[anime_index]))\n",
    "\n",
    "        # Step 5: Sort Scores in Descending Order\n",
    "\n",
    "        sim_scores = sorted(sim_scores, key=lambda x: x[1], reverse=True)\n",
    "\n",
    "        # Step 6: Get Top N Recommendations\n",
    "\n",
    "        top_anime_indices = [i[0] for i in sim_scores[1:11]]\n",
    "        top_anime_names = anime_df['name'].iloc[top_anime_indices]\n",
    "\n",
    "        top_10_anime = top_anime_names.reset_index(drop=True)\n",
    "\n",
    "        return top_10_anime\n",
    "\n",
    "    except IndexError:\n",
    "        # If the anime name is not found, handle the exception\n",
    "        return \"Anime not found. Please enter a valid anime name.\"\n",
    "    except Exception as e:\n",
    "        # Handle other potential exceptions\n",
    "        return f\"An error occurred. Please Try again.{e}\""
   ]
  },
  {
   "cell_type": "code",
   "execution_count": 38,
   "id": "19698631",
   "metadata": {},
   "outputs": [
    {
     "data": {
      "text/plain": [
       "0                                   Naruto: Shippuuden\n",
       "1                                               Naruto\n",
       "2    Boruto: Naruto the Movie - Naruto ga Hokage ni...\n",
       "3                                          Naruto x UT\n",
       "4          Naruto: Shippuuden Movie 4 - The Lost Tower\n",
       "5    Naruto: Shippuuden Movie 3 - Hi no Ishi wo Tsu...\n",
       "6                 Naruto Shippuuden: Sunny Side Battle\n",
       "7    Naruto Soyokazeden Movie: Naruto to Mashin to ...\n",
       "8                              Kyutai Panic Adventure!\n",
       "9           Naruto: Shippuuden Movie 6 - Road to Ninja\n",
       "Name: name, dtype: object"
      ]
     },
     "execution_count": 38,
     "metadata": {},
     "output_type": "execute_result"
    }
   ],
   "source": [
    "content_based_recommendation('Naruto')"
   ]
  },
  {
   "cell_type": "code",
   "execution_count": 39,
   "id": "93535b91",
   "metadata": {},
   "outputs": [
    {
     "data": {
      "text/plain": [
       "0                          Death Note Rewrite\n",
       "1                             Mousou Dairinin\n",
       "2               Higurashi no Naku Koro ni Kai\n",
       "3               Higurashi no Naku Koro ni Rei\n",
       "4                            Mirai Nikki (TV)\n",
       "5           Mirai Nikki (TV): Ura Mirai Nikki\n",
       "6                   Higurashi no Naku Koro ni\n",
       "7                                     Monster\n",
       "8                                   AD Police\n",
       "9    Higurashi no Naku Koro ni Kaku: Outbreak\n",
       "Name: name, dtype: object"
      ]
     },
     "execution_count": 39,
     "metadata": {},
     "output_type": "execute_result"
    }
   ],
   "source": [
    "content_based_recommendation('Death Note')"
   ]
  },
  {
   "cell_type": "code",
   "execution_count": 40,
   "id": "dd6ae913",
   "metadata": {},
   "outputs": [
    {
     "data": {
      "text/plain": [
       "0    One Piece: Episode of Merry - Mou Hitori no Na...\n",
       "1    One Piece: Episode of Nami - Koukaishi no Nami...\n",
       "2    One Piece: Episode of Sabo - 3 Kyoudai no Kizu...\n",
       "3               One Piece Film: Strong World Episode 0\n",
       "4    One Piece: Episode of Luffy - Hand Island no B...\n",
       "5                One Piece Movie 4: Dead End no Bouken\n",
       "6    One Piece Movie 9: Episode of Chopper Plus - F...\n",
       "7                   One Piece: Adventure of Nebulandia\n",
       "8                 One Piece Movie 5: Norowareta Seiken\n",
       "9              One Piece: Umi no Heso no Daibouken-hen\n",
       "Name: name, dtype: object"
      ]
     },
     "execution_count": 40,
     "metadata": {},
     "output_type": "execute_result"
    }
   ],
   "source": [
    "content_based_recommendation('One Piece')"
   ]
  },
  {
   "cell_type": "code",
   "execution_count": 41,
   "id": "336d11ef",
   "metadata": {},
   "outputs": [],
   "source": [
    "pickle.dump(ani_sim_df,open(\"anime_sim.pkl\",'wb'))\n",
    "pickle.dump(anime,open(\"anime.pkl\",'wb'))"
   ]
  },
  {
   "cell_type": "code",
   "execution_count": null,
   "id": "7bcf4351",
   "metadata": {},
   "outputs": [],
   "source": []
  }
 ],
 "metadata": {
  "kernelspec": {
   "display_name": "Python 3 (ipykernel)",
   "language": "python",
   "name": "python3"
  },
  "language_info": {
   "codemirror_mode": {
    "name": "ipython",
    "version": 3
   },
   "file_extension": ".py",
   "mimetype": "text/x-python",
   "name": "python",
   "nbconvert_exporter": "python",
   "pygments_lexer": "ipython3",
   "version": "3.11.5"
  }
 },
 "nbformat": 4,
 "nbformat_minor": 5
}
